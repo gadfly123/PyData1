{
 "metadata": {
  "name": "",
  "signature": "sha256:2000c4d234eb59157dabda13498c5df74e672e4baee3506e4c32a3337061c731"
 },
 "nbformat": 3,
 "nbformat_minor": 0,
 "worksheets": [
  {
   "cells": [
    {
     "cell_type": "code",
     "collapsed": false,
     "input": [
      "!python file.py"
     ],
     "language": "python",
     "metadata": {},
     "outputs": [],
     "prompt_number": 1
    },
    {
     "cell_type": "code",
     "collapsed": false,
     "input": [
      "import pprint\n",
      "import numpy as np\n",
      "from sklearn.multiclass import OneVsRestClassifier\n",
      "from sklearn.svm import SVC\n",
      "import configparser, mysql.connector as sql, sys, os\n",
      "\n",
      "# Connect to MySQL using config entries\n",
      "def connect() :\n",
      "\tconfig = configparser.ConfigParser()\n",
      "\tscript_dir = sys.argv[0]\n",
      "\tconfig_file = os.path.join(script_dir, 'settings.cfg')\n",
      "\tconfig.read(config_file)\n",
      "\tdb_params = {\n",
      "\t\t'user' : 'root',\n",
      "\t\t'password' : '',\n",
      "\t\t'host' : 'localhost',\n",
      "\t\t'port' : 3306,\n",
      "\t\t'database' : 'READPEER_TWEETS_DB',\n",
      "\t\t'charset' : 'utf8',\n",
      "\t\t'collation' : 'utf8_general_ci',\n",
      "\t\t'buffered' : True\n",
      "\t}\n",
      "\treturn sql.connect(**db_params)"
     ],
     "language": "python",
     "metadata": {},
     "outputs": []
    },
    {
     "cell_type": "code",
     "collapsed": false,
     "input": [
      "def read_properties(conn):\n",
      "\tcursor = conn.cursor() \n",
      "\tquery = \"SELECT entity, properties FROM entityProperties\"\n",
      "\tcursor.execute(query)\n",
      "\treturn cursor"
     ],
     "language": "python",
     "metadata": {},
     "outputs": [],
     "prompt_number": 2
    },
    {
     "cell_type": "code",
     "collapsed": false,
     "input": [
      "def read_classes(conn):\n",
      "\tcursor = conn.cursor() \n",
      "\tquery = \"SELECT entity, classes FROM entityClasses\"\n",
      "\tcursor.execute(query)\n",
      "\treturn cursor"
     ],
     "language": "python",
     "metadata": {},
     "outputs": []
    },
    {
     "cell_type": "code",
     "collapsed": false,
     "input": [
      "counter = 0\n",
      "pp = pprint.PrettyPrinter(indent=4)\n",
      "conn = connect()\n",
      "property_identifier_dict = {}\n",
      "class_identifier_dict = {}\n",
      "entity_properties = read_properties(conn)\n",
      "entity_properties_dict = {}\n",
      "entity_property_identifier_dict = {}"
     ],
     "language": "python",
     "metadata": {},
     "outputs": []
    },
    {
     "cell_type": "code",
     "collapsed": false,
     "input": [
      "for (entity, properties) in entity_properties:\n",
      "    list_properties = properties.split('|')\n",
      "    entity_properties_dict[entity] = list_properties\n",
      "    for prop in list_properties:\n",
      "        if prop not in property_identifier_dict:\n",
      "            counter = counter + 1\n",
      "            property_identifier_dict[prop] = counter"
     ],
     "language": "python",
     "metadata": {},
     "outputs": []
    },
    {
     "cell_type": "code",
     "collapsed": false,
     "input": [
      "for entity in entity_properties_dict:\n",
      "    properties_list = entity_properties_dict[entity]\n",
      "    property_identifier_list = []\n",
      "    for prop in properties_list:\n",
      "        property_identifier_list.append(property_identifier_dict[prop])\n",
      "    property_identifier_list.sort()\n",
      "    entity_property_identifier_dict[entity] = property_identifier_list"
     ],
     "language": "python",
     "metadata": {},
     "outputs": []
    },
    {
     "cell_type": "code",
     "collapsed": false,
     "input": [
      "num_properties = counter\n",
      "# \tpp.pprint(entity_properties_dict)\n",
      "# \tpp.pprint(entity_property_identifier_dict)\n",
      "# \tprint(\"Total number of properties = \", counter)\n",
      "entity_classes = read_classes(conn)\n",
      "entity_classes_dict = {}\n",
      "entity_class_identifier_dict = {}\n",
      "\n",
      "for (entity, classes) in entity_classes:\n",
      "    list_classes = classes.split('|')\n",
      "    entity_classes_dict[entity] = list_classes\n",
      "    for cls in list_classes:\n",
      "        if cls not in class_identifier_dict:\n",
      "            counter = counter + 1\n",
      "            class_identifier_dict[cls] = counter"
     ],
     "language": "python",
     "metadata": {},
     "outputs": []
    },
    {
     "cell_type": "code",
     "collapsed": false,
     "input": [
      "for entity in entity_classes_dict:\n",
      "    classes_list = entity_classes_dict[entity]\n",
      "    class_identifier_list = []\n",
      "    for cls in classes_list:\n",
      "        class_identifier_list.append(class_identifier_dict[cls])\n",
      "    class_identifier_list.sort()\n",
      "    entity_class_identifier_dict[entity] = class_identifier_list"
     ],
     "language": "python",
     "metadata": {},
     "outputs": []
    },
    {
     "cell_type": "code",
     "collapsed": false,
     "input": [
      "from sklearn.preprocessing import MultiLabelBinarizer\n",
      "properties_python_array = []\n",
      "for entity in entity_property_identifier_dict:\n",
      "    property_identifier_list = entity_property_identifier_dict[entity]\n",
      "    properties_python_array.append(property_identifier_list)\n",
      "mlb = MultiLabelBinarizer()\n",
      "X = mlb.fit_transform(properties_python_array)\n",
      "X"
     ],
     "language": "python",
     "metadata": {},
     "outputs": [
      {
       "metadata": {},
       "output_type": "pyout",
       "prompt_number": 3,
       "text": [
        "array([[0, 0, 0, ..., 0, 0, 0],\n",
        "       [0, 0, 0, ..., 0, 0, 0],\n",
        "       [0, 0, 0, ..., 0, 0, 0],\n",
        "       ..., \n",
        "       [0, 0, 0, ..., 0, 0, 0],\n",
        "       [0, 0, 0, ..., 0, 0, 0],\n",
        "       [0, 0, 0, ..., 0, 0, 0]])"
       ]
      }
     ],
     "prompt_number": 3
    },
    {
     "cell_type": "code",
     "collapsed": false,
     "input": [
      "classes_python_array = []\n",
      "for entity in entity_property_identifier_dict:\n",
      "    class_identifier_list = entity_class_identifier_dict[entity]\n",
      "    classes_python_array.append(class_identifier_list)\n",
      "Y = mlb.fit_transform(classes_python_array)\n",
      "Y"
     ],
     "language": "python",
     "metadata": {},
     "outputs": [
      {
       "metadata": {},
       "output_type": "pyout",
       "prompt_number": 5,
       "text": [
        "array([[0, 0, 0, ..., 0, 0, 0],\n",
        "       [0, 0, 0, ..., 0, 0, 0],\n",
        "       [0, 0, 0, ..., 0, 0, 0],\n",
        "       ..., \n",
        "       [0, 0, 0, ..., 0, 0, 0],\n",
        "       [0, 0, 0, ..., 0, 0, 0],\n",
        "       [0, 0, 0, ..., 0, 0, 0]])"
       ]
      }
     ],
     "prompt_number": 5
    },
    {
     "cell_type": "code",
     "collapsed": false,
     "input": [
      "from sklearn.cross_validation import KFold\n",
      "kf = KFold(len(entity_properties_dict), n_folds=10)\n",
      "for train, test in kf:\n",
      "    print(\"train: \", train)\n",
      "    print(\"test: \", test)\n",
      "#     X_train, X_test, y_train, y_test = X[train], X[test], Y[train], Y[test]\n",
      "    # classif = OneVsRestClassifier(SVC(kernel='linear'))\n",
      "    # pp.pprint(X_train)\n",
      "    # pp.pprint(X_test)\n",
      "    # pp.pprint(y_train)\n",
      "    # pp.pprint(y_test)\n",
      "    # classif.fit(X_train, y_train)\n",
      "    # print(classif.score(X_test, y_test))"
     ],
     "language": "python",
     "metadata": {},
     "outputs": [
      {
       "output_type": "stream",
       "stream": "stdout",
       "text": [
        "('train: ', array([ 319167,  319168,  319169, ..., 3191667, 3191668, 3191669]))\n",
        "('test: ', array([     0,      1,      2, ..., 319164, 319165, 319166]))\n",
        "('train: ', array([      0,       1,       2, ..., 3191667, 3191668, 3191669]))"
       ]
      },
      {
       "output_type": "stream",
       "stream": "stdout",
       "text": [
        "\n",
        "('test: ', array([319167, 319168, 319169, ..., 638331, 638332, 638333]))\n",
        "('train: ', array([      0,       1,       2, ..., 3191667, 3191668, 3191669]))\n",
        "('test: ', array([638334, 638335, 638336, ..., 957498, 957499, 957500]))\n",
        "('train: ', array([      0,       1,       2, ..., 3191667, 3191668, 3191669]))"
       ]
      },
      {
       "output_type": "stream",
       "stream": "stdout",
       "text": [
        "\n",
        "('test: ', array([ 957501,  957502,  957503, ..., 1276665, 1276666, 1276667]))\n",
        "('train: ', array([      0,       1,       2, ..., 3191667, 3191668, 3191669]))\n",
        "('test: ', array([1276668, 1276669, 1276670, ..., 1595832, 1595833, 1595834]))\n",
        "('train: ', array([      0,       1,       2, ..., 3191667, 3191668, 3191669]))"
       ]
      },
      {
       "output_type": "stream",
       "stream": "stdout",
       "text": [
        "\n",
        "('test: ', array([1595835, 1595836, 1595837, ..., 1914999, 1915000, 1915001]))\n",
        "('train: ', array([      0,       1,       2, ..., 3191667, 3191668, 3191669]))\n",
        "('test: ', array([1915002, 1915003, 1915004, ..., 2234166, 2234167, 2234168]))\n",
        "('train: ', array([      0,       1,       2, ..., 3191667, 3191668, 3191669]))"
       ]
      },
      {
       "output_type": "stream",
       "stream": "stdout",
       "text": [
        "\n",
        "('test: ', array([2234169, 2234170, 2234171, ..., 2553333, 2553334, 2553335]))\n",
        "('train: ', array([      0,       1,       2, ..., 3191667, 3191668, 3191669]))\n",
        "('test: ', array([2553336, 2553337, 2553338, ..., 2872500, 2872501, 2872502]))\n",
        "('train: ', array([      0,       1,       2, ..., 2872500, 2872501, 2872502]))"
       ]
      },
      {
       "output_type": "stream",
       "stream": "stdout",
       "text": [
        "\n",
        "('test: ', array([2872503, 2872504, 2872505, ..., 3191667, 3191668, 3191669]))\n"
       ]
      }
     ],
     "prompt_number": 6
    },
    {
     "cell_type": "code",
     "collapsed": false,
     "input": [
      "np_array = np.arange(len(entity_properties_dict))\n",
      "np_array\n",
      "X[np_array]"
     ],
     "language": "python",
     "metadata": {},
     "outputs": []
    },
    {
     "cell_type": "code",
     "collapsed": false,
     "input": [],
     "language": "python",
     "metadata": {},
     "outputs": []
    }
   ],
   "metadata": {}
  }
 ]
}