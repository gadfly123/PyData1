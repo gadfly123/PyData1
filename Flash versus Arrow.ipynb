{
 "metadata": {
  "name": "",
  "signature": "sha256:3cb9e9a8a240c06f7ab5726216937739cca4feb423b80809fcb28a0583cb712d"
 },
 "nbformat": 3,
 "nbformat_minor": 0,
 "worksheets": [
  {
   "cells": [
    {
     "cell_type": "code",
     "collapsed": false,
     "input": [
      "import csv\n",
      "import sys\n",
      "import matplotlib.pyplot as plt\n",
      "import numpy as np\n",
      "import pandas as pd\n",
      "from sklearn import datasets, linear_model"
     ],
     "language": "python",
     "metadata": {},
     "outputs": [],
     "prompt_number": 3
    },
    {
     "cell_type": "code",
     "collapsed": false,
     "input": [
      "data = pd.read_csv('input_data.csv')\n",
      "data"
     ],
     "language": "python",
     "metadata": {},
     "outputs": [
      {
       "html": [
        "<div style=\"max-height:1000px;max-width:1500px;overflow:auto;\">\n",
        "<table border=\"1\" class=\"dataframe\">\n",
        "  <thead>\n",
        "    <tr style=\"text-align: right;\">\n",
        "      <th></th>\n",
        "      <th>flash_episode_number</th>\n",
        "      <th>flash_us_viewers</th>\n",
        "      <th>arrow_episode_number</th>\n",
        "      <th>arrow_us_viewers</th>\n",
        "    </tr>\n",
        "  </thead>\n",
        "  <tbody>\n",
        "    <tr>\n",
        "      <th>0</th>\n",
        "      <td> 1</td>\n",
        "      <td> 4.83</td>\n",
        "      <td> 1</td>\n",
        "      <td> 2.84</td>\n",
        "    </tr>\n",
        "    <tr>\n",
        "      <th>1</th>\n",
        "      <td> 2</td>\n",
        "      <td> 4.27</td>\n",
        "      <td> 2</td>\n",
        "      <td> 2.32</td>\n",
        "    </tr>\n",
        "    <tr>\n",
        "      <th>2</th>\n",
        "      <td> 3</td>\n",
        "      <td> 3.59</td>\n",
        "      <td> 3</td>\n",
        "      <td> 2.55</td>\n",
        "    </tr>\n",
        "    <tr>\n",
        "      <th>3</th>\n",
        "      <td> 4</td>\n",
        "      <td> 3.53</td>\n",
        "      <td> 4</td>\n",
        "      <td> 2.49</td>\n",
        "    </tr>\n",
        "    <tr>\n",
        "      <th>4</th>\n",
        "      <td> 5</td>\n",
        "      <td> 3.46</td>\n",
        "      <td> 5</td>\n",
        "      <td> 2.73</td>\n",
        "    </tr>\n",
        "    <tr>\n",
        "      <th>5</th>\n",
        "      <td> 6</td>\n",
        "      <td> 3.73</td>\n",
        "      <td> 6</td>\n",
        "      <td> 2.60</td>\n",
        "    </tr>\n",
        "    <tr>\n",
        "      <th>6</th>\n",
        "      <td> 7</td>\n",
        "      <td> 3.47</td>\n",
        "      <td> 7</td>\n",
        "      <td> 2.64</td>\n",
        "    </tr>\n",
        "    <tr>\n",
        "      <th>7</th>\n",
        "      <td> 8</td>\n",
        "      <td> 4.34</td>\n",
        "      <td> 8</td>\n",
        "      <td> 3.92</td>\n",
        "    </tr>\n",
        "    <tr>\n",
        "      <th>8</th>\n",
        "      <td> 9</td>\n",
        "      <td> 4.66</td>\n",
        "      <td> 9</td>\n",
        "      <td> 3.06</td>\n",
        "    </tr>\n",
        "  </tbody>\n",
        "</table>\n",
        "</div>"
       ],
       "metadata": {},
       "output_type": "pyout",
       "prompt_number": 14,
       "text": [
        "   flash_episode_number  flash_us_viewers  arrow_episode_number  \\\n",
        "0                     1              4.83                     1   \n",
        "1                     2              4.27                     2   \n",
        "2                     3              3.59                     3   \n",
        "3                     4              3.53                     4   \n",
        "4                     5              3.46                     5   \n",
        "5                     6              3.73                     6   \n",
        "6                     7              3.47                     7   \n",
        "7                     8              4.34                     8   \n",
        "8                     9              4.66                     9   \n",
        "\n",
        "   arrow_us_viewers  \n",
        "0              2.84  \n",
        "1              2.32  \n",
        "2              2.55  \n",
        "3              2.49  \n",
        "4              2.73  \n",
        "5              2.60  \n",
        "6              2.64  \n",
        "7              3.92  \n",
        "8              3.06  "
       ]
      }
     ],
     "prompt_number": 14
    },
    {
     "cell_type": "code",
     "collapsed": false,
     "input": [
      "# Function to get data\n",
      "def get_data(file_name):\n",
      "    data = pd.read_csv(file_name)\n",
      "    flash_x_parameter = []\n",
      "    flash_y_parameter = []\n",
      "    arrow_x_parameter = []\n",
      "    arrow_y_parameter = []\n",
      "    for x1,y1,x2,y2 in zip(data['flash_episode_number'],data['flash_us_viewers'],data['arrow_episode_number'],data['arrow_us_viewers']):\n",
      "        flash_x_parameter.append([float(x1)])\n",
      "        flash_y_parameter.append(float(y1))\n",
      "        arrow_x_parameter.append([float(x2)])\n",
      "        arrow_y_parameter.append(float(y2))\n",
      "    return flash_x_parameter,flash_y_parameter,arrow_x_parameter,arrow_y_parameter"
     ],
     "language": "python",
     "metadata": {},
     "outputs": [],
     "prompt_number": 6
    },
    {
     "cell_type": "code",
     "collapsed": false,
     "input": [
      "# Function to know which Tv show will have more viewers\n",
      "def more_viewers(x1,y1,x2,y2):\n",
      "    regr1 = linear_model.LinearRegression()\n",
      "    regr1.fit(x1, y1)\n",
      "    predicted_value1 = regr1.predict(9)\n",
      "    \n",
      "    regr2 = linear_model.LinearRegression()\n",
      "    regr2.fit(x2, y2)\n",
      "    predicted_value2 = regr2.predict(9)\n",
      "    \n",
      "    print predicted_value1\n",
      "    print predicted_value2\n",
      "    \n",
      "    if predicted_value1 > predicted_value2:\n",
      "        print \"The Flash Tv Show will have more viewers for next week\"\n",
      "    else:\n",
      "        print \"Arrow Tv Show will have more viewers for next week\""
     ],
     "language": "python",
     "metadata": {},
     "outputs": [],
     "prompt_number": 17
    },
    {
     "cell_type": "code",
     "collapsed": false,
     "input": [
      "x1,y1,x2,y2 = get_data('input_data.csv')\n",
      "#print x1,y1,x2,y2\n",
      "more_viewers(x1,y1,x2,y2)"
     ],
     "language": "python",
     "metadata": {},
     "outputs": [
      {
       "output_type": "stream",
       "stream": "stdout",
       "text": [
        "[ 3.95266667]\n",
        "[ 3.19244444]\n",
        "The Flash Tv Show will have more viewers for next week\n"
       ]
      }
     ],
     "prompt_number": 18
    },
    {
     "cell_type": "code",
     "collapsed": false,
     "input": [],
     "language": "python",
     "metadata": {},
     "outputs": []
    }
   ],
   "metadata": {}
  }
 ]
}