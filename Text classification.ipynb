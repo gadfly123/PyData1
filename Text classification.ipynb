{
 "metadata": {
  "name": "",
  "signature": "sha256:6ad96e8f3739b7594f56686a2fb573404a36c8dde1c2259a636332b0310b86ae"
 },
 "nbformat": 3,
 "nbformat_minor": 0,
 "worksheets": [
  {
   "cells": [
    {
     "cell_type": "code",
     "collapsed": false,
     "input": [
      "from sklearn.datasets import fetch_20newsgroups"
     ],
     "language": "python",
     "metadata": {},
     "outputs": [],
     "prompt_number": 1
    },
    {
     "cell_type": "code",
     "collapsed": false,
     "input": [
      "categories = ['alt.atheism', 'soc.religion.christian','comp.graphics', 'sci.med']\n",
      "twenty_train = fetch_20newsgroups(subset='train', categories=categories, shuffle=True, random_state=42)"
     ],
     "language": "python",
     "metadata": {},
     "outputs": [
      {
       "output_type": "stream",
       "stream": "stderr",
       "text": [
        "WARNING:sklearn.datasets.twenty_newsgroups:Downloading dataset from http://people.csail.mit.edu/jrennie/20Newsgroups/20news-bydate.tar.gz (14 MB)\n"
       ]
      }
     ],
     "prompt_number": 3
    },
    {
     "cell_type": "code",
     "collapsed": false,
     "input": [
      "twenty_train.target_names"
     ],
     "language": "python",
     "metadata": {},
     "outputs": [
      {
       "metadata": {},
       "output_type": "pyout",
       "prompt_number": 4,
       "text": [
        "['alt.atheism', 'comp.graphics', 'sci.med', 'soc.religion.christian']"
       ]
      }
     ],
     "prompt_number": 4
    },
    {
     "cell_type": "code",
     "collapsed": false,
     "input": [
      "len(twenty_train.data)"
     ],
     "language": "python",
     "metadata": {},
     "outputs": [
      {
       "metadata": {},
       "output_type": "pyout",
       "prompt_number": 5,
       "text": [
        "2257"
       ]
      }
     ],
     "prompt_number": 5
    },
    {
     "cell_type": "code",
     "collapsed": false,
     "input": [
      "len(twenty_train.filenames)"
     ],
     "language": "python",
     "metadata": {},
     "outputs": [
      {
       "metadata": {},
       "output_type": "pyout",
       "prompt_number": 6,
       "text": [
        "2257"
       ]
      }
     ],
     "prompt_number": 6
    },
    {
     "cell_type": "code",
     "collapsed": false,
     "input": [
      "print(\"\\n\".join(twenty_train.data[0].split(\"\\n\")))"
     ],
     "language": "python",
     "metadata": {},
     "outputs": [
      {
       "output_type": "stream",
       "stream": "stdout",
       "text": [
        "From: sd345@city.ac.uk (Michael Collier)\n",
        "Subject: Converting images to HP LaserJet III?\n",
        "Nntp-Posting-Host: hampton\n",
        "Organization: The City University\n",
        "Lines: 14\n",
        "\n",
        "Does anyone know of a good way (standard PC application/PD utility) to\n",
        "convert tif/img/tga files into LaserJet III format.  We would also like to\n",
        "do the same, converting to HPGL (HP plotter) files.\n",
        "\n",
        "Please email any response.\n",
        "\n",
        "Is this the correct group?\n",
        "\n",
        "Thanks in advance.  Michael.\n",
        "-- \n",
        "Michael Collier (Programmer)                 The Computer Unit,\n",
        "Email: M.P.Collier@uk.ac.city                The City University,\n",
        "Tel: 071 477-8000 x3769                      London,\n",
        "Fax: 071 477-8565                            EC1V 0HB.\n",
        "\n"
       ]
      }
     ],
     "prompt_number": 8
    },
    {
     "cell_type": "code",
     "collapsed": false,
     "input": [
      "print(twenty_train.target_names[twenty_train.target[0]])"
     ],
     "language": "python",
     "metadata": {},
     "outputs": [
      {
       "output_type": "stream",
       "stream": "stdout",
       "text": [
        "comp.graphics\n"
       ]
      }
     ],
     "prompt_number": 9
    },
    {
     "cell_type": "code",
     "collapsed": false,
     "input": [
      "twenty_train.target[:10]"
     ],
     "language": "python",
     "metadata": {},
     "outputs": [
      {
       "metadata": {},
       "output_type": "pyout",
       "prompt_number": 10,
       "text": [
        "array([1, 1, 3, 3, 3, 3, 3, 2, 2, 2])"
       ]
      }
     ],
     "prompt_number": 10
    },
    {
     "cell_type": "code",
     "collapsed": false,
     "input": [
      "for t in twenty_train.target[:10]:\n",
      "    print(twenty_train.target_names[t])"
     ],
     "language": "python",
     "metadata": {},
     "outputs": [
      {
       "output_type": "stream",
       "stream": "stdout",
       "text": [
        "comp.graphics\n",
        "comp.graphics\n",
        "soc.religion.christian\n",
        "soc.religion.christian\n",
        "soc.religion.christian\n",
        "soc.religion.christian\n",
        "soc.religion.christian\n",
        "sci.med\n",
        "sci.med\n",
        "sci.med\n"
       ]
      }
     ],
     "prompt_number": 11
    },
    {
     "cell_type": "code",
     "collapsed": false,
     "input": [
      "from sklearn.feature_extraction.text import CountVectorizer\n",
      "count_vect = CountVectorizer()\n",
      "X_train_counts = count_vect.fit_transform(twenty_train.data)\n",
      "X_train_counts.shape"
     ],
     "language": "python",
     "metadata": {},
     "outputs": [
      {
       "metadata": {},
       "output_type": "pyout",
       "prompt_number": 16,
       "text": [
        "(2257, 35788)"
       ]
      }
     ],
     "prompt_number": 16
    },
    {
     "cell_type": "code",
     "collapsed": false,
     "input": [
      "count_vect.vocabulary_.get(u'algorithm')"
     ],
     "language": "python",
     "metadata": {},
     "outputs": [
      {
       "metadata": {},
       "output_type": "pyout",
       "prompt_number": 17,
       "text": [
        "4690"
       ]
      }
     ],
     "prompt_number": 17
    },
    {
     "cell_type": "code",
     "collapsed": false,
     "input": [
      "count_vect.vocabulary_.get(u'Shubham') #Sigh!"
     ],
     "language": "python",
     "metadata": {},
     "outputs": [],
     "prompt_number": 18
    },
    {
     "cell_type": "code",
     "collapsed": false,
     "input": [
      "from sklearn.feature_extraction.text import TfidfTransformer\n",
      "tf_transformer = TfidfTransformer(use_idf=False).fit(X_train_counts)\n",
      "X_train_tf = tf_transformer.transform(X_train_counts)\n",
      "X_train_tf.shape"
     ],
     "language": "python",
     "metadata": {},
     "outputs": [
      {
       "metadata": {},
       "output_type": "pyout",
       "prompt_number": 19,
       "text": [
        "(2257, 35788)"
       ]
      }
     ],
     "prompt_number": 19
    },
    {
     "cell_type": "code",
     "collapsed": false,
     "input": [
      "#Can also do\n",
      "tfidf_transformer = TfidfTransformer()\n",
      "X_train_tfidf = tfidf_transformer.fit_transform(X_train_counts)\n",
      "X_train_tfidf.shape"
     ],
     "language": "python",
     "metadata": {},
     "outputs": [
      {
       "metadata": {},
       "output_type": "pyout",
       "prompt_number": 22,
       "text": [
        "(2257, 35788)"
       ]
      }
     ],
     "prompt_number": 22
    },
    {
     "cell_type": "code",
     "collapsed": false,
     "input": [
      "from sklearn.naive_bayes import MultinomialNB\n",
      "clf = MultinomialNB().fit(X_train_tfidf, twenty_train.target)"
     ],
     "language": "python",
     "metadata": {},
     "outputs": [],
     "prompt_number": 23
    },
    {
     "cell_type": "code",
     "collapsed": false,
     "input": [
      "docs_new = ['Shubham is handsome', 'OpenGL on the GPU is fast', 'God is one']\n",
      "X_new_counts = count_vect.transform(docs_new)\n",
      "X_new_tfidf = tfidf_transformer.transform(X_new_counts)\n",
      "\n",
      "predicted = clf.predict(X_new_tfidf)\n",
      "\n",
      "for doc, category in zip(docs_new, predicted):\n",
      "    print('%r => %s' % (doc, twenty_train.target_names[category]))"
     ],
     "language": "python",
     "metadata": {},
     "outputs": [
      {
       "output_type": "stream",
       "stream": "stdout",
       "text": [
        "'Shubham is handsome' => soc.religion.christian\n",
        "'OpenGL on the GPU is fast' => comp.graphics\n",
        "'God is one' => soc.religion.christian\n"
       ]
      }
     ],
     "prompt_number": 36
    },
    {
     "cell_type": "code",
     "collapsed": false,
     "input": [
      "from sklearn.pipeline import Pipeline\n",
      "text_clf = Pipeline([('vect', CountVectorizer()),\n",
      "    ('tfidf', TfidfTransformer()),\n",
      "    ('clf', MultinomialNB()),])"
     ],
     "language": "python",
     "metadata": {},
     "outputs": [],
     "prompt_number": 26
    },
    {
     "cell_type": "code",
     "collapsed": false,
     "input": [
      "text_clf = text_clf.fit(twenty_train.data, twenty_train.target)"
     ],
     "language": "python",
     "metadata": {},
     "outputs": [],
     "prompt_number": 27
    },
    {
     "cell_type": "code",
     "collapsed": false,
     "input": [
      "import numpy as np\n",
      "twenty_test = fetch_20newsgroups(subset='test', categories=categories, shuffle=True, random_state=42)\n",
      "docs_test = twenty_test.data\n",
      "predicted = text_clf.predict(docs_test)\n",
      "np.mean(predicted == twenty_test.target)   "
     ],
     "language": "python",
     "metadata": {},
     "outputs": [
      {
       "metadata": {},
       "output_type": "pyout",
       "prompt_number": 28,
       "text": [
        "0.83488681757656458"
       ]
      }
     ],
     "prompt_number": 28
    },
    {
     "cell_type": "code",
     "collapsed": false,
     "input": [
      "from sklearn.linear_model import SGDClassifier\n",
      "text_clf = Pipeline([('vect', CountVectorizer()),\n",
      "    ('tfidf', TfidfTransformer()),\n",
      "    ('clf', SGDClassifier(loss='hinge', penalty='l2',\n",
      "    alpha=1e-3, n_iter=5)),])\n",
      "_ = text_clf.fit(twenty_train.data, twenty_train.target)\n",
      "predicted = text_clf.predict(docs_test)\n",
      "np.mean(predicted == twenty_test.target)            "
     ],
     "language": "python",
     "metadata": {},
     "outputs": [
      {
       "metadata": {},
       "output_type": "pyout",
       "prompt_number": 30,
       "text": [
        "0.9127829560585885"
       ]
      }
     ],
     "prompt_number": 30
    },
    {
     "cell_type": "code",
     "collapsed": false,
     "input": [
      "from sklearn import metrics\n",
      "print(metrics.classification_report(twenty_test.target, predicted,\n",
      "    target_names=twenty_test.target_names))                                        \n"
     ],
     "language": "python",
     "metadata": {},
     "outputs": [
      {
       "output_type": "stream",
       "stream": "stdout",
       "text": [
        "                        precision    recall  f1-score   support\n",
        "\n",
        "           alt.atheism       0.94      0.82      0.87       319\n",
        "         comp.graphics       0.88      0.98      0.92       389\n",
        "               sci.med       0.95      0.89      0.92       396\n",
        "soc.religion.christian       0.90      0.95      0.92       398\n",
        "\n",
        "           avg / total       0.92      0.91      0.91      1502\n",
        "\n"
       ]
      }
     ],
     "prompt_number": 31
    },
    {
     "cell_type": "code",
     "collapsed": false,
     "input": [
      "metrics.confusion_matrix(twenty_test.target, predicted)"
     ],
     "language": "python",
     "metadata": {},
     "outputs": [
      {
       "metadata": {},
       "output_type": "pyout",
       "prompt_number": 32,
       "text": [
        "array([[261,  10,  12,  36],\n",
        "       [  5, 380,   2,   2],\n",
        "       [  7,  32, 353,   4],\n",
        "       [  6,  11,   4, 377]])"
       ]
      }
     ],
     "prompt_number": 32
    },
    {
     "cell_type": "code",
     "collapsed": false,
     "input": [
      "#another favorite :D\n",
      "from sklearn.grid_search import GridSearchCV\n",
      "parameters = {'vect__ngram_range': [(1, 1), (1, 2)],\n",
      "    'tfidf__use_idf': (True, False),\n",
      "    'clf__alpha': (1e-2, 1e-3),\n",
      "}"
     ],
     "language": "python",
     "metadata": {},
     "outputs": [],
     "prompt_number": 33
    },
    {
     "cell_type": "code",
     "collapsed": false,
     "input": [
      "gs_clf = GridSearchCV(text_clf, parameters, n_jobs=-1)"
     ],
     "language": "python",
     "metadata": {},
     "outputs": [],
     "prompt_number": 34
    },
    {
     "cell_type": "code",
     "collapsed": false,
     "input": [
      "gs_clf = gs_clf.fit(twenty_train.data, twenty_train.target)"
     ],
     "language": "python",
     "metadata": {},
     "outputs": [],
     "prompt_number": 35
    },
    {
     "cell_type": "code",
     "collapsed": false,
     "input": [
      "twenty_train.target_names[gs_clf.predict(['God is one'])]"
     ],
     "language": "python",
     "metadata": {},
     "outputs": [
      {
       "metadata": {},
       "output_type": "pyout",
       "prompt_number": 37,
       "text": [
        "'soc.religion.christian'"
       ]
      }
     ],
     "prompt_number": 37
    },
    {
     "cell_type": "code",
     "collapsed": false,
     "input": [
      "twenty_train.target_names[gs_clf.predict(['Shubham is handsome'])]"
     ],
     "language": "python",
     "metadata": {},
     "outputs": [
      {
       "metadata": {},
       "output_type": "pyout",
       "prompt_number": 38,
       "text": [
        "'comp.graphics'"
       ]
      }
     ],
     "prompt_number": 38
    },
    {
     "cell_type": "code",
     "collapsed": false,
     "input": [
      "best_parameters, score, _ = max(gs_clf.grid_scores_, key=lambda x: x[1])\n",
      "for param_name in sorted(parameters.keys()):\n",
      "    print(\"%s: %r\" % (param_name, best_parameters[param_name]))"
     ],
     "language": "python",
     "metadata": {},
     "outputs": [
      {
       "output_type": "stream",
       "stream": "stdout",
       "text": [
        "clf__alpha: 0.001\n",
        "tfidf__use_idf: True\n",
        "vect__ngram_range: (1, 1)\n"
       ]
      }
     ],
     "prompt_number": 39
    },
    {
     "cell_type": "code",
     "collapsed": false,
     "input": [
      "score"
     ],
     "language": "python",
     "metadata": {},
     "outputs": [
      {
       "metadata": {},
       "output_type": "pyout",
       "prompt_number": 40,
       "text": [
        "0.96588391670358886"
       ]
      }
     ],
     "prompt_number": 40
    },
    {
     "cell_type": "code",
     "collapsed": false,
     "input": [],
     "language": "python",
     "metadata": {},
     "outputs": []
    }
   ],
   "metadata": {}
  }
 ]
}